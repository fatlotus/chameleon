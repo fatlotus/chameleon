{
 "cells": [
  {
   "cell_type": "code",
   "execution_count": 1,
   "metadata": {
    "collapsed": false
   },
   "outputs": [],
   "source": [
    "import dpkt, pcap, socket, collections, numpy\n",
    "import matplotlib"
   ]
  },
  {
   "cell_type": "code",
   "execution_count": 85,
   "metadata": {
    "collapsed": false
   },
   "outputs": [
    {
     "name": "stdout",
     "output_type": "stream",
     "text": [
      "File:  YouTube.pcap (port: 443, direction: sent)\n",
      "Number of packets: 603\n",
      "Time delay: 24.02s\n",
      "Total size: 132,345 B\n",
      "Top five lengths: 98 (x220) 94 (x68) 105 (x17) 102 (x17) 90 (x17) \n"
     ]
    },
    {
     "data": {
      "image/png": "[encoded data removed]",
      "text/plain": [
       "<matplotlib.figure.Figure at 0x108ecdad0>"
      ]
     },
     "metadata": {},
     "output_type": "display_data"
    },
    {
     "name": "stdout",
     "output_type": "stream",
     "text": [
      "File:  Chameleon.pcap (port: 8080, direction: sent)\n",
      "Number of packets: 603\n",
      "Time delay: 24.02s\n",
      "Total size: 132,345 B\n",
      "Top five lengths: 98 (x220) 94 (x68) 105 (x17) 102 (x17) 90 (x17) \n"
     ]
    },
    {
     "data": {
      "image/png": "[encoded data removed]",
      "text/plain": [
       "<matplotlib.figure.Figure at 0x108e865d0>"
      ]
     },
     "metadata": {},
     "output_type": "display_data"
    },
    {
     "name": "stdout",
     "output_type": "stream",
     "text": [
      "File:  YouTube.pcap (port: 443, direction: received)\n",
      "Number of packets: 1937\n",
      "Time delay: 23.99s\n",
      "Total size: 1,930,262 B\n",
      "Top five lengths: 1452 (x1020) 98 (x197) 1470 (x101) 90 (x57) 94 (x40) \n"
     ]
    },
    {
     "data": {
      "image/png": "[encoded data removed]",
      "text/plain": [
       "<matplotlib.figure.Figure at 0x1094a56d0>"
      ]
     },
     "metadata": {},
     "output_type": "display_data"
    },
    {
     "name": "stdout",
     "output_type": "stream",
     "text": [
      "File:  Chameleon.pcap (port: 8080, direction: received)\n",
      "Number of packets: 1934\n",
      "Time delay: 23.35s\n",
      "Total size: 1,926,742 B\n",
      "Top five lengths: 1452 (x1020) 98 (x197) 1470 (x101) 90 (x57) 94 (x40) \n"
     ]
    },
    {
     "data": {
      "image/png": "[encoded data removed]",
      "text/plain": [
       "<matplotlib.figure.Figure at 0x108d79d50>"
      ]
     },
     "metadata": {},
     "output_type": "display_data"
    }
   ],
   "source": [
    "%matplotlib inline\n",
    "\n",
    "import matplotlib.pyplot as plt\n",
    "\n",
    "def analyze(fn, port, just_sent):\n",
    "    pc = pcap.pcap(fn)\n",
    "    pc.setfilter('tcp') \n",
    "\n",
    "    cnt = 0\n",
    "\n",
    "    max_time = 30\n",
    "\n",
    "    chart = numpy.zeros((2 * 10, max_time * 10))\n",
    "\n",
    "    fst = None\n",
    "    bytes = 0\n",
    "\n",
    "    times = []\n",
    "    sizes = collections.defaultdict(int)\n",
    "\n",
    "    for ts, pkt in pc:\n",
    "        eth = dpkt.ethernet.Ethernet(pkt)\n",
    "        ip = eth.data\n",
    "        tcp = ip.data\n",
    "\n",
    "        if fst is None:\n",
    "            fst = ts\n",
    "\n",
    "        if tcp.dport != port and tcp.sport != port:\n",
    "            continue\n",
    "\n",
    "        if len(tcp.data) == 0:\n",
    "            continue\n",
    "            \n",
    "        if ord(tcp.data[0]) != 23:\n",
    "            continue\n",
    "        \n",
    "        from_us = socket.inet_ntoa(ip.src).startswith(\"128.135.203\")\n",
    "\n",
    "        if from_us != just_sent:\n",
    "            continue\n",
    "        \n",
    "        remote_peer = socket.inet_ntoa(ip.dst if from_us else ip.src)\n",
    "        # print remote_peer\n",
    "\n",
    "        chart[len(eth.data) // 100, int((ts - fst) * 1000) / 100] += 1\n",
    "      \n",
    "        # print(len(eth.data), ts * 1000 - fst)\n",
    "\n",
    "        # counts[remote_peer] += len(tcp.data)\n",
    "\n",
    "        sizes[len(eth.data)] += 1\n",
    "\n",
    "        bytes += len(eth.data)\n",
    "        times.append(ts)\n",
    "\n",
    "    freq = list(reversed(sorted([(b, a) for a, b in sizes.items()])))[:5]\n",
    "    form = \"\".join([\"{1} (x{0}) \".format(*x) for x in freq])\n",
    "    print \"File: \", fn, \"(port: {}, direction: {})\".format(port, \"sent\" if just_sent else \"received\")\n",
    "    print \"Number of packets: {}\".format(len(times))\n",
    "    if len(times) != 0:\n",
    "        print \"Time delay: {:0.2f}s\".format(max(times) - min(times))\n",
    "    print \"Total size: {:,} B\".format(bytes)\n",
    "    if form:\n",
    "        print \"Top five lengths: \" + form\n",
    "\n",
    "    extent = [0, chart.shape[1] / 10, 0, chart.shape[0] * 100]\n",
    "    \n",
    "    plt.figure(figsize=(20,2))\n",
    "    plt.imshow(numpy.log10(1 + chart), interpolation='nearest', cmap=plt.get_cmap(\"afmhot\"), extent=extent, aspect='auto' )\n",
    "    plt.ylabel(\"Size (B)\")\n",
    "    plt.xlabel(\"Time (s)\")\n",
    "    plt.show()\n",
    "\n",
    "analyze(\"YouTube.pcap\", 443, True)\n",
    "analyze(\"Chameleon.pcap\", 8080, True)\n",
    "analyze(\"YouTube.pcap\", 443, False)\n",
    "analyze(\"Chameleon.pcap\", 8080, False)"
   ]
  },
  {
   "cell_type": "code",
   "execution_count": 82,
   "metadata": {
    "collapsed": false
   },
   "outputs": [],
   "source": [
    "pc = pcap.pcap(\"Dump.pcap\")\n",
    "pc.setfilter('tcp') \n",
    "\n",
    "port = 443\n",
    "\n",
    "fst = None\n",
    "\n",
    "sent = open(\"send.csv\", \"w\")\n",
    "received = open(\"receive.csv\", \"w\")\n",
    "\n",
    "for ts, pkt in pc:\n",
    "    eth = dpkt.ethernet.Ethernet(pkt)\n",
    "    ip = eth.data\n",
    "    tcp = ip.data\n",
    "    \n",
    "    if fst is None:\n",
    "        fst = ts\n",
    "    \n",
    "    if tcp.dport != port and tcp.sport != port:\n",
    "        continue\n",
    "    \n",
    "    if len(tcp.data) == 0:\n",
    "        continue\n",
    "            \n",
    "    if ord(tcp.data[0]) != 23:\n",
    "        continue\n",
    "    \n",
    "    from_us = socket.inet_ntoa(ip.src).startswith(\"128.135.203\")\n",
    "    \n",
    "    if from_us:\n",
    "        sent.write(\"{} {}\\n\".format(len(eth.data), (ts - fst)))\n",
    "    else:\n",
    "        received.write(\"{} {}\\n\".format(len(eth.data), (ts - fst)))\n",
    "\n",
    "sent.close()\n",
    "received.close()"
   ]
  },
  {
   "cell_type": "code",
   "execution_count": 54,
   "metadata": {
    "collapsed": false
   },
   "outputs": [],
   "source": [
    "fp = open(\"track.csv\", \"w\")\n",
    "\n",
    "for i in xrange(5000):\n",
    "    fp.write(\"1452 {}\\n\".format(float(i) / 200))\n",
    "\n",
    "fp.close()"
   ]
  },
  {
   "cell_type": "code",
   "execution_count": null,
   "metadata": {
    "collapsed": true
   },
   "outputs": [],
   "source": []
  }
 ],
 "metadata": {
  "kernelspec": {
   "display_name": "Python 2",
   "language": "python",
   "name": "python2"
  },
  "language_info": {
   "codemirror_mode": {
    "name": "ipython",
    "version": 2
   },
   "file_extension": ".py",
   "mimetype": "text/x-python",
   "name": "python",
   "nbconvert_exporter": "python",
   "pygments_lexer": "ipython2",
   "version": "2.7.6"
  }
 },
 "nbformat": 4,
 "nbformat_minor": 0
}
